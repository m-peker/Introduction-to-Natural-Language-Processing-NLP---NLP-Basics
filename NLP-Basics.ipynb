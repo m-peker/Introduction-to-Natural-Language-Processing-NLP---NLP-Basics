{
 "cells": [
  {
   "cell_type": "markdown",
   "metadata": {},
   "source": [
    "## Introduction to Natural Language Processing  (NLP)"
   ]
  },
  {
   "cell_type": "markdown",
   "metadata": {},
   "source": [
    "In this stusy, you learn the basics of the NLP for text. More specifically you have learned the following concepts with additional details:\n",
    "\n",
    "1. <b>NLP</b> is used to apply machine learning algorithms to text and speech.\n",
    "2. <b>NLTK</b> (Natural Language Toolkit) is a leading platform for building Python programs to work with human language data\n",
    "3. <b>Sentence tokenization</b> is the problem of dividing a string of written language into its component sentences\n",
    "4. <b>Word tokenization</b> is the problem of dividing a string of written language into its component words\n",
    "5. The goal of both <b>stemming</b> and <b>lemmatization</b> is to reduce inflectional forms and sometimes derivationally related forms of a word to a common base form.\n",
    "6. <b>Stop words</b> are words which are filtered out before or after processing of text. They usually refer to the most common words in a language.\n",
    "7. A <b>regular expression</b> is a sequence of characters that define a search pattern.\n",
    "8. The <b>bag-of-words</b> model is a popular and simple feature extraction technique used when we work with text. It describes the occurrence of each word within a document."
   ]
  },
  {
   "cell_type": "markdown",
   "metadata": {},
   "source": [
    "### Tokenization"
   ]
  },
  {
   "cell_type": "markdown",
   "metadata": {},
   "source": [
    "Tokenization is the first step in text analytics. The process of breaking down a text paragraph into smaller chunks such as words or sentence is called Tokenization. Token is a single entity that is building blocks for sentence or paragraph.\n",
    "\n",
    "<b>1. Sentence Tokenization</b>\n",
    "\n",
    "Sentence tokenizer breaks text paragraph into sentences.\n",
    "\n"
   ]
  },
  {
   "cell_type": "code",
   "execution_count": 1,
   "metadata": {},
   "outputs": [
    {
     "name": "stdout",
     "output_type": "stream",
     "text": [
      "['Hello Mr. Smith, how are you doing today?', 'The weather is great, and city is awesome.', 'The sky is pinkish-blue.', \"You shouldn't eat cardboard\"]\n"
     ]
    }
   ],
   "source": [
    "import nltk\n",
    "\n",
    "from nltk.tokenize import sent_tokenize\n",
    "text=\"\"\"Hello Mr. Smith, how are you doing today? The weather is great, and city is awesome.\n",
    "The sky is pinkish-blue. You shouldn't eat cardboard\"\"\"\n",
    "tokenized_text=sent_tokenize(text)\n",
    "print(tokenized_text)"
   ]
  },
  {
   "cell_type": "markdown",
   "metadata": {},
   "source": [
    "Here, the given text is tokenized into sentences.\n",
    "\n",
    "<b>2. Word Tokenization</b>\n",
    "\n",
    "Word tokenizer breaks text paragraph into words."
   ]
  },
  {
   "cell_type": "code",
   "execution_count": 2,
   "metadata": {},
   "outputs": [
    {
     "name": "stdout",
     "output_type": "stream",
     "text": [
      "['Hello', 'Mr.', 'Smith', ',', 'how', 'are', 'you', 'doing', 'today', '?', 'The', 'weather', 'is', 'great', ',', 'and', 'city', 'is', 'awesome', '.', 'The', 'sky', 'is', 'pinkish-blue', '.', 'You', 'should', \"n't\", 'eat', 'cardboard']\n"
     ]
    }
   ],
   "source": [
    "from nltk.tokenize import word_tokenize\n",
    "tokenized_word=word_tokenize(text)\n",
    "print(tokenized_word)"
   ]
  },
  {
   "cell_type": "markdown",
   "metadata": {},
   "source": [
    "### Frequency Distribution"
   ]
  },
  {
   "cell_type": "code",
   "execution_count": 3,
   "metadata": {},
   "outputs": [
    {
     "name": "stdout",
     "output_type": "stream",
     "text": [
      "<FreqDist with 25 samples and 30 outcomes>\n"
     ]
    }
   ],
   "source": [
    "from nltk.probability import FreqDist\n",
    "fdist = FreqDist(tokenized_word)\n",
    "print(fdist)"
   ]
  },
  {
   "cell_type": "code",
   "execution_count": 5,
   "metadata": {},
   "outputs": [
    {
     "data": {
      "text/plain": [
       "[('is', 3), (',', 2), ('The', 2)]"
      ]
     },
     "execution_count": 5,
     "metadata": {},
     "output_type": "execute_result"
    }
   ],
   "source": [
    "fdist.most_common(3)"
   ]
  },
  {
   "cell_type": "code",
   "execution_count": 9,
   "metadata": {},
   "outputs": [
    {
     "data": {
      "image/png": "[encoded data removed]",
      "text/plain": [
       "<Figure size 432x288 with 1 Axes>"
      ]
     },
     "metadata": {
      "needs_background": "light"
     },
     "output_type": "display_data"
    }
   ],
   "source": [
    "# Frequency Distribution Plot\n",
    "import matplotlib.pyplot as plt\n",
    "fdist.plot(30,cumulative=False)\n",
    "plt.show()"
   ]
  },
  {
   "cell_type": "markdown",
   "metadata": {},
   "source": [
    "### Stopwords"
   ]
  },
  {
   "cell_type": "markdown",
   "metadata": {},
   "source": [
    "Stopwords considered as noise in the text. Text may contain stop words such as is, am, are, this, a, an, the, etc.\n",
    "\n",
    "In NLTK for removing stopwords, you need to create a list of stopwords and filter out your list of tokens from these words."
   ]
  },
  {
   "cell_type": "code",
   "execution_count": 10,
   "metadata": {},
   "outputs": [
    {
     "name": "stdout",
     "output_type": "stream",
     "text": [
      "{'won', 'doing', 'has', \"mightn't\", 'y', 'all', 'needn', 't', 'those', 'couldn', 'of', 're', 'what', 'between', 'is', 'be', 'a', 'can', \"don't\", 'o', 'are', 'during', 'mightn', 'once', 'through', \"weren't\", 'where', 'your', 'did', 'she', 'in', 'both', \"mustn't\", 'while', 'ours', 'yours', 'am', 'after', 'who', 'his', 'with', 'them', \"that'll\", 'myself', 'how', 'than', 'most', \"wasn't\", \"hasn't\", 'by', \"wouldn't\", 'its', 'other', 'such', 'shan', 'only', 'having', 'will', \"won't\", 'because', 'no', 's', 'the', 've', 'theirs', 'there', 'to', 'if', 'itself', 'then', 'any', 'when', 'below', \"it's\", 'our', 'at', 'again', 'does', \"isn't\", 'under', 'you', 'against', 'll', 'before', 'now', 'aren', 'up', 'him', 'down', 'nor', 'until', \"should've\", 'on', 'hasn', \"shan't\", 'further', 'm', \"doesn't\", 'but', 'this', 'about', 'each', 'being', 'very', 'why', 'her', 'it', \"she's\", 'from', 'he', \"you're\", 'some', 'their', 'over', 'not', 'just', \"you've\", 'himself', 'do', 'they', 'off', 'own', 'so', 'me', 'been', 'doesn', 'don', \"shouldn't\", 'here', 'was', 'few', \"needn't\", 'hadn', 'wasn', 'that', 'whom', 'which', 'ourselves', 'yourself', 'above', 'an', 'hers', \"couldn't\", \"you'll\", 'should', 'd', \"haven't\", 'we', 'isn', \"didn't\", 'herself', 'too', 'ain', 'haven', 'out', 'ma', 'weren', 'and', 'were', 'i', \"aren't\", 'wouldn', 'these', \"you'd\", 'didn', 'into', 'for', 'my', \"hadn't\", 'shouldn', 'have', 'as', 'more', 'yourselves', 'themselves', 'mustn', 'same', 'had', 'or'}\n"
     ]
    }
   ],
   "source": [
    "from nltk.corpus import stopwords\n",
    "stop_words=set(stopwords.words(\"english\"))\n",
    "print(stop_words)"
   ]
  },
  {
   "cell_type": "markdown",
   "metadata": {},
   "source": [
    "<b>Removing Stopwords</b>\n",
    "\n",
    "\n"
   ]
  },
  {
   "cell_type": "code",
   "execution_count": 13,
   "metadata": {},
   "outputs": [
    {
     "name": "stdout",
     "output_type": "stream",
     "text": [
      "Tokenized Sentence: ['Hello', 'Mr.', 'Smith', ',', 'how', 'are', 'you', 'doing', 'today', '?', 'The', 'weather', 'is', 'great', ',', 'and', 'city', 'is', 'awesome', '.', 'The', 'sky', 'is', 'pinkish-blue', '.', 'You', 'should', \"n't\", 'eat', 'cardboard']\n",
      "----------------------------------\n",
      "Filterd Sentence: ['Hello', 'Mr.', 'Smith', ',', 'today', '?', 'The', 'weather', 'great', ',', 'city', 'awesome', '.', 'The', 'sky', 'pinkish-blue', '.', 'You', \"n't\", 'eat', 'cardboard']\n"
     ]
    }
   ],
   "source": [
    "filtered_sent=[]\n",
    "for w in tokenized_word:\n",
    "    if w not in stop_words:\n",
    "        filtered_sent.append(w)\n",
    "print(\"Tokenized Words:\",tokenized_word)\n",
    "print(\"----------------------------------\")\n",
    "print(\"Filtered Sentence:\",filtered_sent)"
   ]
  },
  {
   "cell_type": "markdown",
   "metadata": {},
   "source": [
    "## Lexicon Normalization\n"
   ]
  },
  {
   "cell_type": "markdown",
   "metadata": {},
   "source": [
    "Lexicon normalization considers another type of noise in the text. For example, connection, connected, connecting word reduce to a common word \"connect\". It reduces derivationally related forms of a word to a common root word.\n",
    "\n",
    "<b>Stemming</b>\n",
    "\n",
    "Stemming is a process of linguistic normalization, which reduces words to their word root word or chops off the derivational affixes. For example, connection, connected, connecting word reduce to a common word \"connect\"."
   ]
  },
  {
   "cell_type": "code",
   "execution_count": 14,
   "metadata": {},
   "outputs": [
    {
     "name": "stdout",
     "output_type": "stream",
     "text": [
      "Filtered Sentence: ['Hello', 'Mr.', 'Smith', ',', 'today', '?', 'The', 'weather', 'great', ',', 'city', 'awesome', '.', 'The', 'sky', 'pinkish-blue', '.', 'You', \"n't\", 'eat', 'cardboard']\n",
      "--------------------------------\n",
      "Stemmed Sentence: ['hello', 'mr.', 'smith', ',', 'today', '?', 'the', 'weather', 'great', ',', 'citi', 'awesom', '.', 'the', 'sky', 'pinkish-blu', '.', 'you', \"n't\", 'eat', 'cardboard']\n"
     ]
    }
   ],
   "source": [
    "# Stemming\n",
    "from nltk.stem import PorterStemmer\n",
    "from nltk.tokenize import sent_tokenize, word_tokenize\n",
    "\n",
    "ps = PorterStemmer()\n",
    "\n",
    "stemmed_words=[]\n",
    "\n",
    "for w in filtered_sent:\n",
    "    stemmed_words.append(ps.stem(w))\n",
    "\n",
    "print(\"Filtered Sentence:\",filtered_sent)\n",
    "print(\"--------------------------------\")\n",
    "print(\"Stemmed Sentence:\",stemmed_words)"
   ]
  },
  {
   "cell_type": "markdown",
   "metadata": {},
   "source": [
    "<b>Lemmatization</b>\n",
    "\n",
    "Lemmatization reduces words to their base word, which is linguistically correct lemmas. It transforms root word with the use of vocabulary and morphological analysis. Lemmatization is usually more sophisticated than stemming. Stemmer works on an individual word without knowledge of the context. For example, The word \"better\" has \"good\" as its lemma. This thing will miss by stemming because it requires a dictionary look-up."
   ]
  },
  {
   "cell_type": "code",
   "execution_count": 15,
   "metadata": {},
   "outputs": [
    {
     "name": "stdout",
     "output_type": "stream",
     "text": [
      "Lemmatized Word: fly\n",
      "--------------------------------\n",
      "Stemmed Word: fli\n"
     ]
    }
   ],
   "source": [
    "#Lexicon Normalization\n",
    "\n",
    "#performing stemming and Lemmatization\n",
    "\n",
    "from nltk.stem.wordnet import WordNetLemmatizer\n",
    "lem = WordNetLemmatizer()\n",
    "\n",
    "from nltk.stem.porter import PorterStemmer\n",
    "stem = PorterStemmer()\n",
    "\n",
    "word = \"flying\"\n",
    "\n",
    "print(\"Lemmatized Word:\",lem.lemmatize(word,\"v\"))\n",
    "print(\"----------------------------------------\")\n",
    "print(\"Stemmed Word:\",stem.stem(word))"
   ]
  },
  {
   "cell_type": "markdown",
   "metadata": {},
   "source": [
    "### POS  Tagging (Part of Speech Tagging): \n"
   ]
  },
  {
   "cell_type": "markdown",
   "metadata": {},
   "source": [
    "The primary target of Part-of-Speech(POS) tagging is to identify the grammatical group of a given word. Whether it is a NOUN, PRONOUN, ADJECTIVE, VERB, ADVERBS, etc. based on the context. POS Tagging looks for relationships within the sentence and assigns a corresponding tag to the word."
   ]
  },
  {
   "cell_type": "code",
   "execution_count": 16,
   "metadata": {},
   "outputs": [],
   "source": [
    "sent = \"Albert Einstein was born in Ulm, Germany in 1879.\""
   ]
  },
  {
   "cell_type": "code",
   "execution_count": 19,
   "metadata": {},
   "outputs": [
    {
     "name": "stdout",
     "output_type": "stream",
     "text": [
      "['Albert', 'Einstein', 'was', 'born', 'in', 'Ulm', ',', 'Germany', 'in', '1879', '.']\n"
     ]
    }
   ],
   "source": [
    "import nltk\n",
    "from nltk.tokenize import word_tokenize\n",
    "\n",
    "tokens=nltk.word_tokenize(sent)\n",
    "print(tokens)"
   ]
  },
  {
   "cell_type": "code",
   "execution_count": 20,
   "metadata": {},
   "outputs": [
    {
     "data": {
      "text/plain": [
       "[('Albert', 'NNP'),\n",
       " ('Einstein', 'NNP'),\n",
       " ('was', 'VBD'),\n",
       " ('born', 'VBN'),\n",
       " ('in', 'IN'),\n",
       " ('Ulm', 'NNP'),\n",
       " (',', ','),\n",
       " ('Germany', 'NNP'),\n",
       " ('in', 'IN'),\n",
       " ('1879', 'CD'),\n",
       " ('.', '.')]"
      ]
     },
     "execution_count": 20,
     "metadata": {},
     "output_type": "execute_result"
    }
   ],
   "source": [
    "nltk.pos_tag(tokens)"
   ]
  },
  {
   "cell_type": "markdown",
   "metadata": {},
   "source": [
    "Note:\n",
    "\n",
    "    CC     coordinating conjunction\n",
    "    CD     cardinal digit\n",
    "    DT     determiner\n",
    "    EX     existential there (like: \"there is\" ... think of it like \"there exists\")\n",
    "    FW     foreign word\n",
    "    IN     preposition/subordinating conjunction\n",
    "    JJ     adjective 'big'\n",
    "    JJR    adjective, comparative 'bigger'\n",
    "    JJS    adjective, superlative 'biggest'\n",
    "    LS     list marker 1)\n",
    "    MD     modal could, will\n",
    "    NN     noun, singular 'desk'\n",
    "    NNS    noun plural 'desks'\n",
    "    NNP    proper noun, singular 'Harrison'\n",
    "    NNPS   proper noun, plural 'Americans'\n",
    "    PDT    predeterminer 'all the kids'\n",
    "    POS    possessive ending parent's\n",
    "    PRP    personal pronoun I, he, she\n",
    "    RB     adverb very, silently,\n",
    "    RBR    adverb, comparative better\n",
    "    RBS    adverb, superlative best\n",
    "    RP     particle give up\n",
    "    TO     to go 'to' the store.\n",
    "    UH     interjection errrrrrrrm\n",
    "    VB     verb, base form take\n",
    "    VBD    verb, past tense took\n",
    "    VBG    verb, gerund/present participle taking\n",
    "    VBN    verb, past participle taken\n",
    "    VBP    verb, sing. present, non-3d take\n",
    "    VBZ    verb, 3rd person sing. present takes\n",
    "    WDT    wh-determiner which\n",
    "    WP     wh-pronoun who, what\n",
    "    WRB    wh-abverb where, when\n",
    "    PRP$   possessive pronoun my, his, hers\n",
    "WP$    possessive wh-pronoun whose"
   ]
  },
  {
   "cell_type": "markdown",
   "metadata": {},
   "source": [
    "### Named Entity Recognition"
   ]
  },
  {
   "cell_type": "markdown",
   "metadata": {},
   "source": [
    "Named Entity Recognition, also known as entity extraction classifies named entities that are present in a text into pre-defined categories like “individuals”, “companies”, “places”, “organization”, “cities”, “dates”, “product terminologies” etc. It adds a wealth of semantic knowledge to your content and helps you to promptly understand the subject of any given text."
   ]
  },
  {
   "cell_type": "code",
   "execution_count": 31,
   "metadata": {},
   "outputs": [],
   "source": [
    "import nltk\n",
    "\n",
    "text = \"\"\"Steve Jobs was an American entrepreneur and business magnate. He was the chairman, chief executive officer (CEO), \n",
    "and a co-founder of Apple Inc., chairman and majority shareholder of Pixar, a member of The Walt Disney Company's \n",
    "board of directors following its acquisition of Pixar, and the founder, chairman, and CEO of NeXT. Jobs is widely \n",
    "recognized as a pioneer of the microcomputer revolution of the 1970s and 1980s, along with Apple co-founder Steve \n",
    "Wozniak.\"\"\"\n",
    "\n",
    "tokenized = nltk.word_tokenize(text)\n",
    "\n",
    "tagged = nltk.pos_tag(tokenized)\n",
    "\n",
    "named_ent = nltk.ne_chunk(tagged)\n",
    "\n",
    "named_ent.draw()"
   ]
  },
  {
   "cell_type": "markdown",
   "metadata": {},
   "source": [
    "The obtained results from the graph.\n",
    "\n",
    "    Type              \tExample\n",
    "    ORGANIZATION    \tGeorgia-Pacific Corp., WHO\n",
    "    PERSON          \tEddy Bonte, President Obama\n",
    "    LOCATION        \tMurray River, Mount Everest\n",
    "    DATE            \tJune, 2008-06-29\n",
    "    TIME            \ttwo fifty a m, 1:30 p.m.\n",
    "    MONEY           \t175 million Canadian Dollars, GBP 10.40\n",
    "    PERCENT         \ttwenty pct, 18.75 %\n",
    "    FACILITY        \tWashington Monument, Stonehenge\n",
    "    GPE             \tSouth East Asia, Midlothian"
   ]
  },
  {
   "cell_type": "markdown",
   "metadata": {},
   "source": [
    "### Regular Expressions"
   ]
  },
  {
   "cell_type": "markdown",
   "metadata": {},
   "source": [
    "A regular expression, regex, or regexp is a sequence of characters that define a search pattern. Let’s see some basics.\n",
    "\n",
    "\n",
    "        . - match any character except newline\n",
    "        \\w - match word\n",
    "        \\d - match digit\n",
    "        \\s - match whitespace\n",
    "        \\W - match not word\n",
    "        \\D - match not digit\n",
    "        \\S - match not whitespace\n",
    "        [abc] - match any of a, b, or c\n",
    "        [^abc] - not match a, b, or c\n",
    "        [a-g] - match a character between a & g\n",
    "        \n",
    "We can use regex to apply additional filtering to our text. For example, we can remove all the non-words characters. In many cases, we don’t need the punctuation marks and it’s easy to remove them with regex.\n",
    "\n",
    "In Python, the <i>re</i> module provides regular expression matching operations similar to those in Perl. We can use the <i>re.sub</i> function to replace the matches for a pattern with a replacement string. Let’s see an example when we replace all non-words with the space character."
   ]
  },
  {
   "cell_type": "markdown",
   "metadata": {},
   "source": [
    "<b>Example 1</b>"
   ]
  },
  {
   "cell_type": "code",
   "execution_count": 43,
   "metadata": {},
   "outputs": [
    {
     "name": "stdout",
     "output_type": "stream",
     "text": [
      "The development of snowboarding was inspired by skateboarding  sledding  surfing and skiing \n"
     ]
    }
   ],
   "source": [
    "import re\n",
    "sentence = \"The development of snowboarding was inspired by skateboarding, sledding, surfing and skiing.\"\n",
    "pattern = r\"[^\\w]\"\n",
    "print(re.sub(pattern, \" \", sentence))"
   ]
  },
  {
   "cell_type": "markdown",
   "metadata": {},
   "source": [
    "<b>Example 2</b>"
   ]
  },
  {
   "cell_type": "code",
   "execution_count": 44,
   "metadata": {},
   "outputs": [
    {
     "data": {
      "text/plain": [
       "['Steve Jobs was an 2 American entrepreneur and business     magnate ',\n",
       " 'He was the chairman  chief executive officer  CEO    and a co founder of Apple Inc   chairman and majority shareholder of Pixar  a member of The Walt Disney Company s  board of directors following its acquisition of Pixar  and the founder  chairman  and CEO of NeXT ',\n",
       " 'Jobs is widely  recognized as a pioneer of the microcomputer revolution of the 1970s and 1980s  along with Apple co founder Steve  Wozniak ']"
      ]
     },
     "execution_count": 44,
     "metadata": {},
     "output_type": "execute_result"
    }
   ],
   "source": [
    "import re\n",
    "\n",
    "import nltk\n",
    "from nltk.tokenize import sent_tokenize\n",
    "\n",
    "text = \"\"\"Steve Jobs was an 2 American entrepreneur and business === magnate. He was the chairman, chief executive officer (CEO), \n",
    "and a co-founder of Apple Inc., chairman and majority shareholder of Pixar, a member of The Walt Disney Company's \n",
    "board of directors following its acquisition of Pixar, and the founder, chairman, and CEO of NeXT. Jobs is widely \n",
    "recognized as a pioneer of the microcomputer revolution of the 1970s and 1980s, along with Apple co-founder Steve \n",
    "Wozniak.\"\"\"\n",
    "\n",
    "tokenized_text=sent_tokenize(text)\n",
    "\n",
    "\n",
    "description_list = []\n",
    "\n",
    "for description in tokenized_text:\n",
    "    # regular expression RE mesela \"[^a-zA-Z]\"\n",
    "    description = re.sub(\"[^a-zA-Z0-9]\",\" \",description)\n",
    "    description = \"\".join(description)  #vektor için list değil string hali gerekli\n",
    "    description_list.append(description)\n",
    "    \n",
    "description_list[0:5]"
   ]
  },
  {
   "cell_type": "markdown",
   "metadata": {},
   "source": [
    "### Bag of Words Model "
   ]
  },
  {
   "cell_type": "markdown",
   "metadata": {},
   "source": [
    "In the Text Classification Problem, we have a set of texts and their respective labels. But we directly can't use text for our model. You need to convert these text into some numbers or vectors of numbers.\n",
    "\n",
    "Bag-of-words model(BoW ) is the simplest way of extracting features from the text. BoW converts text into the matrix of occurrence of words within a document. This model concerns about whether given words occurred or not in the document."
   ]
  },
  {
   "cell_type": "markdown",
   "metadata": {},
   "source": [
    "<b>Example:</b> There are three documents:\n",
    "\n",
    "    Doc 1: I love dogs. \n",
    "    Doc 2: I hate dogs and knitting. \n",
    "    Doc 3: Knitting is my hobby and passion.\n",
    "\n",
    "Now, you can create a matrix of document and words by counting the occurrence of words in the given document. This matrix is known as Document-Term Matrix(DTM).\n",
    "\n",
    "<img src=\"data/Fig1.png\">\n",
    "\n",
    "This matrix is using a single word. It can be a combination of two or more words, which is called a bigram or trigram model and the general approach is called the n-gram model.\n",
    "\n",
    "You can generate document term matrix by using scikit-learn's CountVectorizer."
   ]
  },
  {
   "cell_type": "code",
   "execution_count": 56,
   "metadata": {},
   "outputs": [
    {
     "name": "stdout",
     "output_type": "stream",
     "text": [
      "vocabulary:  {'i': 4, 'love': 7, 'dogs': 1, 'hate': 2, 'and': 0, 'knitting': 6, 'is': 5, 'my': 8, 'hobby': 3, 'passion': 9}\n",
      "shape:  (3, 10)\n",
      "vectors: \n",
      " [[0 1 0 0 2 0 0 1 0 0]\n",
      " [1 1 1 0 1 0 1 0 0 0]\n",
      " [1 0 0 1 0 1 1 0 1 1]]\n"
     ]
    }
   ],
   "source": [
    "Docs=['I love dogs', 'I hate dogs and knitting','Knitting is my hobby and passion']\n",
    " \n",
    "from sklearn.feature_extraction.text import CountVectorizer\n",
    "\n",
    "from nltk.tokenize import RegexpTokenizer\n",
    "\n",
    "#tokenizer to remove unwanted elements from out data like symbols and numbers\n",
    "\n",
    "token = RegexpTokenizer(r'[a-zA-Z0-9]+')\n",
    "\n",
    "# create the transform\n",
    "cv = CountVectorizer(lowercase=True,ngram_range = (1,1),tokenizer = token.tokenize)\n",
    "\n",
    "# tokenize and build vocab\n",
    "text_counts= cv.fit(Docs)\n",
    "\n",
    "print('vocabulary: ', cv.vocabulary_)\n",
    "\n",
    "# encode document\n",
    "text_counts= cv.transform(Docs)\n",
    "\n",
    "# summarize encoded vector\n",
    "print('shape: ', text_counts.shape)\n",
    "print('vectors: \\n', text_counts.toarray())"
   ]
  },
  {
   "cell_type": "markdown",
   "metadata": {},
   "source": [
    "References:\n",
    "1. https://www.datacamp.com/community/tutorials/text-analytics-beginners-nltk\n",
    "2. https://towardsdatascience.com/introduction-to-natural-language-processing-for-text-df845750fb63\n",
    "3. https://towardsdatascience.com/introduction-to-natural-language-processing-for-text-df845750fb63"
   ]
  },
  {
   "cell_type": "code",
   "execution_count": null,
   "metadata": {},
   "outputs": [],
   "source": []
  }
 ],
 "metadata": {
  "kernelspec": {
   "display_name": "Python 3",
   "language": "python",
   "name": "python3"
  },
  "language_info": {
   "codemirror_mode": {
    "name": "ipython",
    "version": 3
   },
   "file_extension": ".py",
   "mimetype": "text/x-python",
   "name": "python",
   "nbconvert_exporter": "python",
   "pygments_lexer": "ipython3",
   "version": "3.7.3"
  }
 },
 "nbformat": 4,
 "nbformat_minor": 2
}
